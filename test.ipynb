{
 "cells": [
  {
   "cell_type": "code",
   "execution_count": 1,
   "metadata": {},
   "outputs": [
    {
     "name": "stderr",
     "output_type": "stream",
     "text": [
      "Global seed set to 2022\n"
     ]
    }
   ],
   "source": [
    "from pytorch_lightning import Trainer, seed_everything\n",
    "\n",
    "seed_everything(2022)\n",
    "\n",
    "from boostcamp.datasets import MnistDataModule\n",
    "from boostcamp.models.auto_encoder import AutoEncoder"
   ]
  },
  {
   "cell_type": "code",
   "execution_count": 2,
   "metadata": {},
   "outputs": [
    {
     "name": "stderr",
     "output_type": "stream",
     "text": [
      "GPU available: False, used: False\n",
      "TPU available: False, using: 0 TPU cores\n",
      "IPU available: False, using: 0 IPUs\n",
      "\n",
      "  | Name    | Type       | Params\n",
      "---------------------------------------\n",
      "0 | loss_fn | MSELoss    | 0     \n",
      "1 | encoder | Sequential | 19.2 K\n",
      "2 | decoder | Sequential | 21.5 K\n",
      "---------------------------------------\n",
      "40.7 K    Trainable params\n",
      "0         Non-trainable params\n",
      "40.7 K    Total params\n",
      "0.163     Total estimated model params size (MB)\n"
     ]
    },
    {
     "name": "stdout",
     "output_type": "stream",
     "text": [
      "                                                              "
     ]
    },
    {
     "name": "stderr",
     "output_type": "stream",
     "text": [
      "/Users/aiden/.pyenv/versions/3.9.10/envs/boostcampl-pl-3.9.10/lib/python3.9/site-packages/pytorch_lightning/trainer/data_loading.py:132: UserWarning: The dataloader, val_dataloader 0, does not have many workers which may be a bottleneck. Consider increasing the value of the `num_workers` argument` (try 10 which is the number of cpus on this machine) in the `DataLoader` init to improve performance.\n",
      "  rank_zero_warn(\n",
      "Global seed set to 2022\n",
      "/Users/aiden/.pyenv/versions/3.9.10/envs/boostcampl-pl-3.9.10/lib/python3.9/site-packages/pytorch_lightning/trainer/data_loading.py:132: UserWarning: The dataloader, train_dataloader, does not have many workers which may be a bottleneck. Consider increasing the value of the `num_workers` argument` (try 10 which is the number of cpus on this machine) in the `DataLoader` init to improve performance.\n",
      "  rank_zero_warn(\n"
     ]
    },
    {
     "name": "stdout",
     "output_type": "stream",
     "text": [
      "Epoch 9: 100%|██████████| 236/236 [00:01<00:00, 148.53it/s, loss=0.0651, v_num=6]\n"
     ]
    }
   ],
   "source": [
    "datamodule = MnistDataModule()\n",
    "ae = AutoEncoder([784, 24, 12], [12, 24, 784], \"sigmoid\")\n",
    "trainer = Trainer(max_epochs=10)\n",
    "trainer.fit(ae, datamodule=datamodule)"
   ]
  },
  {
   "cell_type": "code",
   "execution_count": 3,
   "metadata": {},
   "outputs": [],
   "source": [
    "from pytorch_lightning.loggers import MLFlowLogger"
   ]
  },
  {
   "cell_type": "code",
   "execution_count": 4,
   "metadata": {},
   "outputs": [
    {
     "name": "stderr",
     "output_type": "stream",
     "text": [
      "GPU available: False, used: False\n",
      "TPU available: False, using: 0 TPU cores\n",
      "IPU available: False, using: 0 IPUs\n",
      "\n",
      "  | Name    | Type       | Params\n",
      "---------------------------------------\n",
      "0 | loss_fn | MSELoss    | 0     \n",
      "1 | encoder | Sequential | 19.2 K\n",
      "2 | decoder | Sequential | 21.5 K\n",
      "---------------------------------------\n",
      "40.7 K    Trainable params\n",
      "0         Non-trainable params\n",
      "40.7 K    Total params\n",
      "0.163     Total estimated model params size (MB)\n"
     ]
    },
    {
     "name": "stdout",
     "output_type": "stream",
     "text": [
      "                                                              "
     ]
    },
    {
     "name": "stderr",
     "output_type": "stream",
     "text": [
      "/Users/aiden/.pyenv/versions/3.9.10/envs/boostcampl-pl-3.9.10/lib/python3.9/site-packages/pytorch_lightning/trainer/data_loading.py:132: UserWarning: The dataloader, val_dataloader 0, does not have many workers which may be a bottleneck. Consider increasing the value of the `num_workers` argument` (try 10 which is the number of cpus on this machine) in the `DataLoader` init to improve performance.\n",
      "  rank_zero_warn(\n",
      "Global seed set to 2022\n",
      "/Users/aiden/.pyenv/versions/3.9.10/envs/boostcampl-pl-3.9.10/lib/python3.9/site-packages/pytorch_lightning/trainer/data_loading.py:132: UserWarning: The dataloader, train_dataloader, does not have many workers which may be a bottleneck. Consider increasing the value of the `num_workers` argument` (try 10 which is the number of cpus on this machine) in the `DataLoader` init to improve performance.\n",
      "  rank_zero_warn(\n"
     ]
    },
    {
     "name": "stdout",
     "output_type": "stream",
     "text": [
      "Epoch 9: 100%|██████████| 236/236 [00:02<00:00, 116.49it/s, loss=0.0699, v_num=40b5]\n"
     ]
    }
   ],
   "source": [
    "datamodule = MnistDataModule()\n",
    "ae = AutoEncoder([784, 24, 12], [12, 24, 784], \"sigmoid\")\n",
    "logger = MLFlowLogger()\n",
    "trainer = Trainer(max_epochs=10, logger=logger)\n",
    "trainer.fit(ae, datamodule=datamodule)"
   ]
  },
  {
   "cell_type": "code",
   "execution_count": null,
   "metadata": {},
   "outputs": [],
   "source": [
    "\n",
    "nn.Linear(30, 20),\n",
    "nn.Sigmoid()"
   ]
  },
  {
   "cell_type": "code",
   "execution_count": null,
   "metadata": {},
   "outputs": [],
   "source": [
    "if model == \"vgg\":\n",
    "    vgg~~\n",
    "elif model~`"
   ]
  },
  {
   "cell_type": "code",
   "execution_count": null,
   "metadata": {},
   "outputs": [],
   "source": [
    "plt.plot(train_history)"
   ]
  },
  {
   "cell_type": "code",
   "execution_count": 5,
   "metadata": {},
   "outputs": [
    {
     "name": "stdout",
     "output_type": "stream",
     "text": [
      "0\n",
      "1\n",
      "2\n",
      "3\n",
      "4\n",
      "5\n",
      "6\n",
      "7\n",
      "8\n",
      "9\n"
     ]
    }
   ],
   "source": [
    "def tokenizer(sentence):\n",
    "    return sentence.split(\" \")"
   ]
  },
  {
   "cell_type": "code",
   "execution_count": null,
   "metadata": {},
   "outputs": [],
   "source": [
    "def tokenizers(sentences):\n",
    "    tokens = []\n",
    "    for sentence in sentences:\n",
    "        token = tokenizer(sentence)\n",
    "        tokens.append(token)\n",
    "    return tokens"
   ]
  },
  {
   "cell_type": "code",
   "execution_count": null,
   "metadata": {},
   "outputs": [],
   "source": [
    "# asdfasdf_asdfjsadfas = ...\n",
    "sentences = ..."
   ]
  },
  {
   "cell_type": "code",
   "execution_count": null,
   "metadata": {},
   "outputs": [],
   "source": [
    "tokens = []\n",
    "for sentence in sentences:\n",
    "    token = sentence.split(\" \")\n",
    "    tokens.append(token)"
   ]
  }
 ],
 "metadata": {
  "interpreter": {
   "hash": "649b05f6e1ca612a34f152b712cd0d73268964dfc732ef257f644fdc08cfa36e"
  },
  "kernelspec": {
   "display_name": "Python 3.9.10 64-bit ('boostcampl-pl-3.9.10')",
   "language": "python",
   "name": "python3"
  },
  "language_info": {
   "codemirror_mode": {
    "name": "ipython",
    "version": 3
   },
   "file_extension": ".py",
   "mimetype": "text/x-python",
   "name": "python",
   "nbconvert_exporter": "python",
   "pygments_lexer": "ipython3",
   "version": "3.9.10"
  },
  "orig_nbformat": 4
 },
 "nbformat": 4,
 "nbformat_minor": 2
}
